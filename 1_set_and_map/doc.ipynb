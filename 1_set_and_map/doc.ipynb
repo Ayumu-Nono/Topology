{
 "cells": [
  {
   "cell_type": "markdown",
   "source": [
    "# 集合と写像"
   ],
   "metadata": {}
  },
  {
   "cell_type": "markdown",
   "source": [],
   "metadata": {}
  }
 ],
 "metadata": {
  "orig_nbformat": 4,
  "language_info": {
   "name": "python"
  }
 },
 "nbformat": 4,
 "nbformat_minor": 2
}